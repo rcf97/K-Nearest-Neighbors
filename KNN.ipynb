{
 "cells": [
  {
   "cell_type": "markdown",
   "metadata": {
    "id": "DVL7_bgmIAPR"
   },
   "source": [
    "# K-Nearest Neighbor Implementation\n",
    "\n",
    "R. Connor Franckowiak\n",
    "\n",
    "March 22, 2021"
   ]
  },
  {
   "cell_type": "code",
   "execution_count": 73,
   "metadata": {
    "id": "6ZbYjZZZ_yLV"
   },
   "outputs": [],
   "source": [
    "from sklearn.base import BaseEstimator, ClassifierMixin\n",
    "from sklearn.neighbors import KNeighborsClassifier, KNeighborsRegressor\n",
    "import numpy as np\n",
    "import scipy.linalg as la\n",
    "import matplotlib.pyplot as plt\n",
    "from scipy.stats import mode\n",
    "import pandas as pd\n",
    "from scipy.io import arff"
   ]
  },
  {
   "cell_type": "markdown",
   "metadata": {
    "id": "sCcEPx5VIORj"
   },
   "source": [
    "## Implement the k-nearest neighbor (KNN) algorithm and the KNN regression algorithm\n",
    "\n",
    "- Use Euclidean distance to decide closest neighbors. \n",
    "- Include optional distance weighting for both algorithms\n"
   ]
  },
  {
   "cell_type": "code",
   "execution_count": 118,
   "metadata": {
    "id": "_a2KSZ_7AN0G"
   },
   "outputs": [],
   "source": [
    "class KNNClassifier(BaseEstimator,ClassifierMixin):\n",
    "    def __init__(self, columntype=[], weight_type='inverse_distance',normalize = False,regression=False): ## add parameters here\n",
    "        \"\"\"\n",
    "        Args:\n",
    "            columntype for each column tells you if continues[real] or if nominal[categoritcal].\n",
    "            weight_type: inverse_distance voting or if non distance weighting. Options = [\"no_weight\",\"inverse_distance\"]\n",
    "        \"\"\"\n",
    "        self.regression=regression\n",
    "        self.normalize=normalize\n",
    "        self.columntype = np.array(columntype) #Note This won't be needed until part 5\n",
    "        self.weight_type = weight_type\n",
    "        \n",
    "    def fit(self, data, labels):\n",
    "        \"\"\" Fit the data; run the algorithm (for this lab really just saves the data :D)\n",
    "        Args:\n",
    "            X (array-like): A 2D numpy array with the training data, excluding targets\n",
    "            y (array-like): A 2D numpy array with the training targets\n",
    "        Returns:\n",
    "            self: this allows this to be chained, e.g. model.fit(X,y).predict(X_test)\n",
    "        \"\"\"\n",
    "        \n",
    "        if self.normalize:\n",
    "            self.mask = self.columntype == \"real\"\n",
    "            self.mins = np.min(data[:,self.mask],axis=0)\n",
    "            self.maxs = np.max(data[:,self.mask],axis=0)\n",
    "            self.X = data.copy()\n",
    "            self.X[self.X == b'?'] = np.inf\n",
    "            self.X[:,self.mask] = (data[:,self.mask].astype(np.float64)-self.mins)/(self.maxs-self.mins)\n",
    "        else:\n",
    "            self.X = data\n",
    "        self.y = labels\n",
    "        return self\n",
    "    \n",
    "    def predict(self, data, k=5):\n",
    "        \"\"\" Predict all classes for a dataset X\n",
    "        Args:\n",
    "            X (array-like): A 2D numpy array with the training data, excluding targets\n",
    "            k (int): Number of nearest neighbors\n",
    "        Returns:\n",
    "            array, shape (n_samples,)\n",
    "                Predicted target values per element in X.\n",
    "        \"\"\"\n",
    "        n_samples = self.X.shape[0]\n",
    "        #normalize test data according to normalization of training data\n",
    "        if self.normalize:\n",
    "            data[:,self.mask] = (data[:,self.mask]-self.mins)/(self.maxs - self.mins)\n",
    "        predictions = []\n",
    "        for row in data:\n",
    "            X_tmp = self.X.copy()\n",
    "            row_tmp = row.copy()\n",
    "            #1/0 distance metric for nominal features\n",
    "            col_mask = self.columntype != \"real\"\n",
    "            if True in col_mask:\n",
    "                #Extend row sample to match size of data, to find whether instance observations match\n",
    "                broadcast = np.repeat(row[col_mask],repeats=n_samples,axis=0).reshape(np.count_nonzero(col_mask),n_samples).T\n",
    "                X_tmp[:,col_mask] = np.where(X_tmp == broadcast,0,1)\n",
    "                row_tmp[col_mask] = 0\n",
    "            if b'?' in X_tmp or b'?' in row_tmp:\n",
    "                col_mask = row == b'?'\n",
    "                row_tmp[col_mask] = int(0)\n",
    "                X_tmp[col_mask] = int(1)\n",
    "                missing_mask = X_tmp == b'?'\n",
    "                np.where(X_tmp == np.inf,row_tmp+1,X_tmp)\n",
    "            X_tmp[X_tmp == np.inf] = 1\n",
    "            row_tmp[row_tmp == np.inf] = 0\n",
    "            #Take euclidean norm and sort args\n",
    "            X_tmp = X_tmp.astype(np.float64)\n",
    "            row_tmp = row_tmp.astype(np.float64)\n",
    "            norms = la.norm(X_tmp - row_tmp,ord=2,axis=1)\n",
    "            labels = self.y.copy()\n",
    "            #Find nearest k neighbors and let them vote\n",
    "            args = np.argsort(norms)[:k]\n",
    "            nearest=labels[args]\n",
    "            if self.regression:\n",
    "                nearest = nearest.astype(np.float64)\n",
    "                if self.weight_type == \"no_weight\":\n",
    "                    predictions.append(np.mean(nearest))\n",
    "                else:\n",
    "                    weights = norms[args]\n",
    "                    votes = nearest/weights**2\n",
    "                    predictions.append(np.mean(votes))\n",
    "            else:\n",
    "                if self.weight_type == \"no_weight\":\n",
    "                    predictions.append(mode(nearest)[0][0])\n",
    "                else:\n",
    "                    #Inverse weighting\n",
    "                    weights = norms[args]\n",
    "                    outputs = np.unique(nearest)\n",
    "                    votes = []\n",
    "                    for o in outputs:\n",
    "                        mask = nearest == o\n",
    "                        w = weights[mask]**2\n",
    "                        w_mask = w == 0\n",
    "                        numerator = np.ones(np.count_nonzero(mask))\n",
    "                        numerator[w_mask] = np.inf\n",
    "                        w[w_mask] = 1\n",
    "                        vote = np.sum(numerator/w)\n",
    "                        votes.append(vote)\n",
    "                    predictions.append(outputs[np.argmax(votes)])\n",
    "                \n",
    "        predictions = np.array(predictions)\n",
    "        return predictions\n",
    "\n",
    "    #Returns the Mean score given input data and labels\n",
    "    def score(self, X, y,k=5):\n",
    "        \"\"\" Return accuracy of model on a given dataset. Must implement own score function.\n",
    "        Args:\n",
    "            X (array-like): A 2D numpy array with data, excluding targets\n",
    "            y (array-like): A 2D numpy array with targets\n",
    "        Returns:\n",
    "            score : float\n",
    "                Mean accuracy of self.predict(X) wrt. y.\n",
    "        \"\"\"\n",
    "        predictions = self.predict(X,k)\n",
    "        accuracies = predictions == y\n",
    "        accuracy = np.count_nonzero(accuracies)/predictions.shape[0]\n",
    "        return accuracy\n",
    "    "
   ]
  },
  {
   "cell_type": "markdown",
   "metadata": {},
   "source": [
    "## Debug and Evaluation\n",
    "\n",
    "Debug and Evaluate model using the parameters below:\n",
    "\n",
    "- Use distance weighting\n",
    "- KNN = 3 (three nearest neighbors)\n",
    "- Don’t normalize the data\n",
    "- Use Euclidean Distance\n",
    "\n",
    "---\n",
    "\n",
    "### Debug\n",
    "\n",
    "Debug  model by running it on the [seismic bumps](https://archive.ics.uci.edu/ml/datasets/seismic-bumps) problem.\n",
    "- Using this [training set](https://raw.githubusercontent.com/cs472ta/CS472/master/datasets/seismic-bumps_train.arff) and this [test set](https://raw.githubusercontent.com/cs472ta/CS472/master/datasets/seismic-bumps_test.arff)\n",
    "- Use distance weighting\n",
    "- KNN = 3 (three nearest neighbors)\n",
    "- Don’t normalize the data\n",
    "- Use Euclidean Distance\n"
   ]
  },
  {
   "cell_type": "code",
   "execution_count": 119,
   "metadata": {},
   "outputs": [
    {
     "name": "stdout",
     "output_type": "stream",
     "text": [
      "  % Total    % Received % Xferd  Average Speed   Time    Time     Time  Current\n",
      "                                 Dload  Upload   Total   Spent    Left  Speed\n",
      "100  6392  100  6392    0     0  23762      0 --:--:-- --:--:-- --:--:-- 23762\n",
      "  % Total    % Received % Xferd  Average Speed   Time    Time     Time  Current\n",
      "                                 Dload  Upload   Total   Spent    Left  Speed\n",
      "100  9597  100  9597    0     0  37635      0 --:--:-- --:--:-- --:--:-- 37635\n",
      "\n",
      "Accuracy:  0.9357142857142857\n"
     ]
    }
   ],
   "source": [
    "# Load seismic bumps data\n",
    "# Download file with curl\n",
    "!curl https://raw.githubusercontent.com/cs472ta/CS472/master/datasets/seismic-bumps_train.arff --output seismic.arff\n",
    "\n",
    "data = arff.loadarff('seismic.arff')\n",
    "df = pd.DataFrame(data[0])\n",
    "df.head()\n",
    "debug = np.array(df)\n",
    "\n",
    "X = debug[:,:-1]\n",
    "y = debug[:,-1]\n",
    "\n",
    "# Train on training set\n",
    "knn = KNNClassifier(columntype=[\"real\" for i in range(7)],weight_type=\"inverse_distance\")\n",
    "knn.fit(X,y)\n",
    "# Predict on test set\n",
    "!curl https://raw.githubusercontent.com/cs472ta/CS472/master/datasets/seismic-bumps_test.arff --output seismic_test.arff\n",
    "\n",
    "data = arff.loadarff('seismic_test.arff')\n",
    "df = pd.DataFrame(data[0])\n",
    "df.head()\n",
    "test = np.array(df)\n",
    "X = test[:,:-1]\n",
    "y = test[:,-1]\n",
    "\n",
    "#Print Accuracy\n",
    "print(\"\\nAccuracy: \",knn.score(X,y,3))\n"
   ]
  },
  {
   "cell_type": "markdown",
   "metadata": {},
   "source": [
    "### Evaluate\n",
    "\n",
    "Evaluate model based on its performance on the [diabetes](https://archive.ics.uci.edu/ml/datasets/Diabetes) problem.\n",
    "- Use this [training set](https://raw.githubusercontent.com/cs472ta/CS472/master/datasets/diabetes_train.arff) and this [test set](https://raw.githubusercontent.com/cs472ta/CS472/master/datasets/diabetes_test.arff)"
   ]
  },
  {
   "cell_type": "code",
   "execution_count": 88,
   "metadata": {},
   "outputs": [
    {
     "name": "stdout",
     "output_type": "stream",
     "text": [
      "  % Total    % Received % Xferd  Average Speed   Time    Time     Time  Current\n",
      "                                 Dload  Upload   Total   Spent    Left  Speed\n",
      "100 37419  100 37419    0     0   315k      0 --:--:-- --:--:-- --:--:--  315k\n",
      "  % Total    % Received % Xferd  Average Speed   Time    Time     Time  Current\n",
      "                                 Dload  Upload   Total   Spent    Left  Speed\n",
      "100 73698  100 73698    0     0   525k      0 --:--:-- --:--:-- --:--:--  525k\n",
      "\n",
      "Accuracy:  0.890625\n"
     ]
    }
   ],
   "source": [
    "# Load diabetes data\n",
    "# Download file with curl\n",
    "!curl https://raw.githubusercontent.com/cs472ta/CS472/master/datasets/diabetes_train.arff --output diabetes_train.arff\n",
    "\n",
    "data = arff.loadarff('diabetes_train.arff')\n",
    "df = pd.DataFrame(data[0])\n",
    "df.head()\n",
    "debug = np.array(df)\n",
    "\n",
    "X = debug[:,:-1]\n",
    "y = debug[:,-1]\n",
    "\n",
    "# Train on training set\n",
    "knn = KNNClassifier(columntype=[\"real\" for i in range(8)],weight_type=\"inverse_distance\")\n",
    "knn.fit(X,y)\n",
    "# Predict on test set\n",
    "!curl https://raw.githubusercontent.com/cs472ta/CS472/master/datasets/diabetes_test.arff --output diabetes_test.arff\n",
    "\n",
    "data = arff.loadarff('diabetes_test.arff')\n",
    "df = pd.DataFrame(data[0])\n",
    "df.head()\n",
    "test = np.array(df)\n",
    "X = test[:,:-1]\n",
    "y = test[:,-1]\n",
    "\n",
    "#Print Accuracy\n",
    "print(\"\\nAccuracy: \",knn.score(X,y,3))"
   ]
  },
  {
   "cell_type": "markdown",
   "metadata": {
    "id": "9vWiTdlbR2Xh"
   },
   "source": [
    "## Use the k-nearest neighbor algorithm (without distance weighting) for the [magic telescope](http://archive.ics.uci.edu/ml/datasets/MAGIC+Gamma+Telescope) problem\n",
    "\n",
    "- Use this [training set](https://raw.githubusercontent.com/cs472ta/CS472/master/datasets/magic_telescope_train.arff) and this [test set](https://raw.githubusercontent.com/cs472ta/CS472/master/datasets/magic_telescope_test.arff) \n",
    "\n",
    "- Try it with k=3 and without normalization\n"
   ]
  },
  {
   "cell_type": "code",
   "execution_count": 77,
   "metadata": {
    "id": "4SSoasDQSKXb"
   },
   "outputs": [
    {
     "name": "stdout",
     "output_type": "stream",
     "text": [
      "  % Total    % Received % Xferd  Average Speed   Time    Time     Time  Current\n",
      "                                 Dload  Upload   Total   Spent    Left  Speed\n",
      "100  937k  100  937k    0     0  1917k      0 --:--:-- --:--:-- --:--:-- 1921k\n",
      "  % Total    % Received % Xferd  Average Speed   Time    Time     Time  Current\n",
      "                                 Dload  Upload   Total   Spent    Left  Speed\n",
      "100  505k  100  505k    0     0  1341k      0 --:--:-- --:--:-- --:--:-- 1341k\n",
      "\n",
      "Accuracy:  0.8082808280828083\n"
     ]
    }
   ],
   "source": [
    "# Load magic telescope data\n",
    "# Download file with curl\n",
    "!curl https://raw.githubusercontent.com/cs472ta/CS472/master/datasets/magic_telescope_train.arff --output telescope_train.arff\n",
    "\n",
    "data = arff.loadarff('telescope_train.arff')\n",
    "df = pd.DataFrame(data[0])\n",
    "df.head()\n",
    "debug = np.array(df)\n",
    "\n",
    "X = debug[:,:-1]\n",
    "y = debug[:,-1]\n",
    "\n",
    "# Train on training set\n",
    "knn = KNNClassifier(columntype=[\"real\" for i in range(10)],weight_type=\"no_weight\")\n",
    "knn.fit(X,y)\n",
    "# Predict on test set\n",
    "!curl https://raw.githubusercontent.com/cs472ta/CS472/master/datasets/magic_telescope_test.arff --output telescope_test.arff\n",
    "\n",
    "data = arff.loadarff('telescope_test.arff')\n",
    "df = pd.DataFrame(data[0])\n",
    "df.head()\n",
    "test = np.array(df)\n",
    "X = test[:,:-1]\n",
    "y = test[:,-1]\n",
    "\n",
    "#Print Accuracy\n",
    "print(\"\\nAccuracy: \",knn.score(X,y,3))\n",
    "\n"
   ]
  },
  {
   "cell_type": "markdown",
   "metadata": {},
   "source": [
    "#### Try it with k=3 and with normalization (input features normalized between 0 and 1). Using the normalization formula (x-xmin)/(xmax-xmin)"
   ]
  },
  {
   "cell_type": "code",
   "execution_count": 78,
   "metadata": {},
   "outputs": [
    {
     "name": "stdout",
     "output_type": "stream",
     "text": [
      "  % Total    % Received % Xferd  Average Speed   Time    Time     Time  Current\n",
      "                                 Dload  Upload   Total   Spent    Left  Speed\n",
      "100  937k  100  937k    0     0  3485k      0 --:--:-- --:--:-- --:--:-- 3472k\n",
      "  % Total    % Received % Xferd  Average Speed   Time    Time     Time  Current\n",
      "                                 Dload  Upload   Total   Spent    Left  Speed\n",
      "100  505k  100  505k    0     0  2267k      0 --:--:-- --:--:-- --:--:-- 2267k\n",
      "\n",
      "Accuracy:  0.8306330633063307\n"
     ]
    }
   ],
   "source": [
    "# Train/Predict with normalization\n",
    "# Load magic telescope data\n",
    "# Download file with curl\n",
    "!curl https://raw.githubusercontent.com/cs472ta/CS472/master/datasets/magic_telescope_train.arff --output telescope_train.arff\n",
    "\n",
    "data = arff.loadarff('telescope_train.arff')\n",
    "df = pd.DataFrame(data[0])\n",
    "df.head()\n",
    "debug = np.array(df)\n",
    "\n",
    "X = debug[:,:-1]\n",
    "y = debug[:,-1]\n",
    "\n",
    "# Train on training set\n",
    "knn = KNNClassifier(columntype=[\"real\" for i in range(10)],weight_type=\"no_weight\",normalize=True)\n",
    "knn.fit(X,y)\n",
    "# Predict on test set\n",
    "!curl https://raw.githubusercontent.com/cs472ta/CS472/master/datasets/magic_telescope_test.arff --output telescope_test.arff\n",
    "\n",
    "data = arff.loadarff('telescope_test.arff')\n",
    "df = pd.DataFrame(data[0])\n",
    "df.head()\n",
    "test = np.array(df)\n",
    "X = test[:,:-1]\n",
    "y = test[:,-1]\n",
    "\n",
    "#Print Accuracy\n",
    "print(\"\\nAccuracy: \",knn.score(X,y,3))"
   ]
  },
  {
   "cell_type": "markdown",
   "metadata": {},
   "source": [
    "*Discussion of the accuracy results of using normalized data vs. unnormalized data*\n",
    "\n",
    "Interestingly, the accuracy is increased when we use normalized data.  This is because some of the features have a larger standard deviation than other features, making their euclidean distance increase, and makes the algorithm think that they are \"farther away\".  However, when we normalize the data, this standardizes the spread of the data, and allows the algorithm to correctly identify the data that is nearest to the point in question."
   ]
  },
  {
   "cell_type": "markdown",
   "metadata": {},
   "source": [
    "- Using normalized data, create one graph with classification accuracy on the test set over k values. \n",
    "- As a rough sanity check, typical knn accuracies for the magic telescope data set are 75-85%"
   ]
  },
  {
   "cell_type": "code",
   "execution_count": 98,
   "metadata": {},
   "outputs": [
    {
     "name": "stdout",
     "output_type": "stream",
     "text": [
      "  % Total    % Received % Xferd  Average Speed   Time    Time     Time  Current\n",
      "                                 Dload  Upload   Total   Spent    Left  Speed\n",
      "100  937k  100  937k    0     0  2007k      0 --:--:-- --:--:-- --:--:-- 2007k\n",
      "  % Total    % Received % Xferd  Average Speed   Time    Time     Time  Current\n",
      "                                 Dload  Upload   Total   Spent    Left  Speed\n",
      "100  505k  100  505k    0     0  1330k      0 --:--:-- --:--:-- --:--:-- 1327k\n"
     ]
    },
    {
     "data": {
      "image/png": "[encoded data removed]",
      "text/plain": [
       "<Figure size 432x288 with 1 Axes>"
      ]
     },
     "metadata": {
      "needs_background": "light"
     },
     "output_type": "display_data"
    }
   ],
   "source": [
    "# Train/Predict with normalization\n",
    "# Load magic telescope data\n",
    "# Download file with curl\n",
    "!curl https://raw.githubusercontent.com/cs472ta/CS472/master/datasets/magic_telescope_train.arff --output telescope_train.arff\n",
    "\n",
    "data = arff.loadarff('telescope_train.arff')\n",
    "df = pd.DataFrame(data[0])\n",
    "df.head()\n",
    "debug = np.array(df)\n",
    "\n",
    "X = debug[:,:-1]\n",
    "y = debug[:,-1]\n",
    "\n",
    "# Train on training set\n",
    "knn = KNNClassifier(columntype=[\"real\" for i in range(10)],weight_type=\"no_weight\",normalize=True)\n",
    "knn.fit(X,y)\n",
    "# Predict on test set\n",
    "!curl https://raw.githubusercontent.com/cs472ta/CS472/master/datasets/magic_telescope_test.arff --output telescope_test.arff\n",
    "\n",
    "data = arff.loadarff('telescope_test.arff')\n",
    "df = pd.DataFrame(data[0])\n",
    "df.head()\n",
    "test = np.array(df)\n",
    "X = test[:,:-1]\n",
    "y = test[:,-1]\n",
    "\n",
    "# Train/Predict with normalization using k=1,3,...,15\n",
    "accuracies = []\n",
    "for k in range(1,16,2):\n",
    "    accuracies.append(knn.score(X,y,k))\n",
    "# Graph classification accuracy over k\n",
    "accuracies = np.array(accuracies)\n",
    "k = np.arange(1,16,2)\n",
    "plt.plot(k,accuracies)\n",
    "plt.xlabel(\"K-Nearest Neighbors\")\n",
    "plt.ylabel(\"Accuracy\")\n",
    "plt.title(\"Accuracy based on number of neighbors\")\n",
    "plt.show()"
   ]
  },
  {
   "cell_type": "markdown",
   "metadata": {
    "id": "SIRG42TgSR4x"
   },
   "source": [
    "## Using the regression variation of algorithm (without distance weighting) for the [housing price prediction](https://www.cs.toronto.edu/~delve/data/boston/bostonDetail.html) problem.\n",
    "\n",
    "- Using this [training set](https://raw.githubusercontent.com/cs472ta/CS472/master/datasets/housing_train.arff) and this [test set](https://raw.githubusercontent.com/cs472ta/CS472/master/datasets/housing_test.arff).\n",
    "- Using Mean Square Error (MSE) on the test set as accuracy metric for this case.\n",
    "- Graph MSE on the test set with odd values of k from 1 to 15\n"
   ]
  },
  {
   "cell_type": "code",
   "execution_count": 107,
   "metadata": {
    "id": "KBGUn43ASiXW"
   },
   "outputs": [
    {
     "name": "stdout",
     "output_type": "stream",
     "text": [
      "  % Total    % Received % Xferd  Average Speed   Time    Time     Time  Current\n",
      "                                 Dload  Upload   Total   Spent    Left  Speed\n",
      "100 34205  100 34205    0     0   263k      0 --:--:-- --:--:-- --:--:--  263k\n",
      "  % Total    % Received % Xferd  Average Speed   Time    Time     Time  Current\n",
      "                                 Dload  Upload   Total   Spent    Left  Speed\n",
      "100  3885  100  3885    0     0  15000      0 --:--:-- --:--:-- --:--:-- 15000\n"
     ]
    },
    {
     "data": {
      "image/png": "[encoded data removed]",
      "text/plain": [
       "<Figure size 432x288 with 1 Axes>"
      ]
     },
     "metadata": {
      "needs_background": "light"
     },
     "output_type": "display_data"
    }
   ],
   "source": [
    "# Load housing price prediction data\n",
    "# Download file with curl\n",
    "!curl https://raw.githubusercontent.com/cs472ta/CS472/master/datasets/housing_train.arff --output housing_train.arff\n",
    "\n",
    "data = arff.loadarff('housing_train.arff')\n",
    "df = pd.DataFrame(data[0])\n",
    "df.head()\n",
    "debug = np.array(df)\n",
    "\n",
    "X = debug[:,:-1]\n",
    "y = debug[:,-1]\n",
    "\n",
    "# Train on training set\n",
    "X[X == b'1'] = int(1)\n",
    "X[X == b'0'] = int(0)\n",
    "knn = KNNClassifier(columntype=[\"real\" for i in range(13)],weight_type=\"no_weight\",normalize=True,regression=True)\n",
    "knn.fit(X,y)\n",
    "# Predict on test set\n",
    "!curl https://raw.githubusercontent.com/cs472ta/CS472/master/datasets/housing_test.arff --output housing_test.arff\n",
    "\n",
    "data = arff.loadarff('housing_test.arff')\n",
    "df = pd.DataFrame(data[0])\n",
    "df.head()\n",
    "test = np.array(df)\n",
    "X = test[:,:-1]\n",
    "y = test[:,-1]\n",
    "\n",
    "# Train/Predict using k=1,3,...,15\n",
    "mses = []\n",
    "for k in range(1,16,2):\n",
    "    output = knn.predict(X,k)\n",
    "    mse = np.mean((output - y)**2)\n",
    "    mses.append(mse)\n",
    "\n",
    "# Graph MSE over k\n",
    "mses = np.array(mses)\n",
    "ks = np.arange(1,16,2)\n",
    "plt.plot(ks,mses)\n",
    "plt.xlabel(\"K-Nearest Neighbors\")\n",
    "plt.ylabel(\"Mean Square Error\")\n",
    "plt.title(\"MSE based on number of neighbors\")\n",
    "plt.show()"
   ]
  },
  {
   "cell_type": "markdown",
   "metadata": {
    "id": "v19fpixqTe-7"
   },
   "source": [
    "## Repeat the experiment for magic telescope and housing using distance-weighted (inverse of distance squared) voting and discuss the results.\n"
   ]
  },
  {
   "cell_type": "code",
   "execution_count": 103,
   "metadata": {
    "id": "ZCPFUAGTS2sX"
   },
   "outputs": [
    {
     "name": "stdout",
     "output_type": "stream",
     "text": [
      "  % Total    % Received % Xferd  Average Speed   Time    Time     Time  Current\n",
      "                                 Dload  Upload   Total   Spent    Left  Speed\n",
      "100  937k  100  937k    0     0   780k      0  0:00:01  0:00:01 --:--:--  780k\n",
      "  % Total    % Received % Xferd  Average Speed   Time    Time     Time  Current\n",
      "                                 Dload  Upload   Total   Spent    Left  Speed\n",
      "100  505k  100  505k    0     0  1136k      0 --:--:-- --:--:-- --:--:-- 1133k\n"
     ]
    },
    {
     "data": {
      "image/png": "[encoded data removed]",
      "text/plain": [
       "<Figure size 432x288 with 1 Axes>"
      ]
     },
     "metadata": {
      "needs_background": "light"
     },
     "output_type": "display_data"
    },
    {
     "name": "stdout",
     "output_type": "stream",
     "text": [
      "  % Total    % Received % Xferd  Average Speed   Time    Time     Time  Current\n",
      "                                 Dload  Upload   Total   Spent    Left  Speed\n",
      "100 34205  100 34205    0     0   133k      0 --:--:-- --:--:-- --:--:--  133k\n",
      "  % Total    % Received % Xferd  Average Speed   Time    Time     Time  Current\n",
      "                                 Dload  Upload   Total   Spent    Left  Speed\n",
      "100  3885  100  3885    0     0  15355      0 --:--:-- --:--:-- --:--:-- 15355\n"
     ]
    },
    {
     "data": {
      "image/png": "[encoded data removed]",
      "text/plain": [
       "<Figure size 432x288 with 1 Axes>"
      ]
     },
     "metadata": {
      "needs_background": "light"
     },
     "output_type": "display_data"
    }
   ],
   "source": [
    "# Train/Predict magic telescope using distance-weighted voting\n",
    "# Train/Predict with normalization\n",
    "# Load magic telescope data\n",
    "# Download file with curl\n",
    "!curl https://raw.githubusercontent.com/cs472ta/CS472/master/datasets/magic_telescope_train.arff --output telescope_train.arff\n",
    "\n",
    "data = arff.loadarff('telescope_train.arff')\n",
    "df = pd.DataFrame(data[0])\n",
    "df.head()\n",
    "debug = np.array(df)\n",
    "\n",
    "X = debug[:,:-1]\n",
    "y = debug[:,-1]\n",
    "\n",
    "# Train on training set\n",
    "knn = KNNClassifier(columntype=[\"real\" for i in range(10)],weight_type=\"inverse_distance\",normalize=True)\n",
    "knn.fit(X,y)\n",
    "# Predict on test set\n",
    "!curl https://raw.githubusercontent.com/cs472ta/CS472/master/datasets/magic_telescope_test.arff --output telescope_test.arff\n",
    "\n",
    "data = arff.loadarff('telescope_test.arff')\n",
    "df = pd.DataFrame(data[0])\n",
    "df.head()\n",
    "test = np.array(df)\n",
    "X = test[:,:-1]\n",
    "y = test[:,-1]\n",
    "\n",
    "# Train/Predict with normalization using k=1,3,...,15\n",
    "accuracies = []\n",
    "for k in range(1,16,2):\n",
    "    accuracies.append(knn.score(X,y,k))\n",
    "# Graph classification accuracy over k\n",
    "accuracies = np.array(accuracies)\n",
    "k = np.arange(1,16,2)\n",
    "plt.plot(k,accuracies)\n",
    "plt.xlabel(\"K-Nearest Neighbors\")\n",
    "plt.ylabel(\"Accuracy\")\n",
    "plt.title(\"Accuracy based on number of neighbors (Telescope)\")\n",
    "plt.show()\n",
    "\n",
    "# Train/Predict housing using distance-weighted voting\n",
    "# Load housing price prediction data\n",
    "# Download file with curl\n",
    "!curl https://raw.githubusercontent.com/cs472ta/CS472/master/datasets/housing_train.arff --output housing_train.arff\n",
    "\n",
    "data = arff.loadarff('housing_train.arff')\n",
    "df = pd.DataFrame(data[0])\n",
    "df.head()\n",
    "debug = np.array(df)\n",
    "\n",
    "X = debug[:,:-1]\n",
    "y = debug[:,-1]\n",
    "\n",
    "# Train on training set\n",
    "X[X == b'1'] = int(1)\n",
    "X[X == b'0'] = int(0)\n",
    "knn = KNNClassifier(columntype=[\"real\" for i in range(13)],weight_type=\"inverse_distance\",normalize=True,regression=True)\n",
    "knn.fit(X,y)\n",
    "# Predict on test set\n",
    "!curl https://raw.githubusercontent.com/cs472ta/CS472/master/datasets/housing_test.arff --output housing_test.arff\n",
    "\n",
    "data = arff.loadarff('housing_test.arff')\n",
    "df = pd.DataFrame(data[0])\n",
    "df.head()\n",
    "test = np.array(df)\n",
    "X = test[:,:-1]\n",
    "y = test[:,-1]\n",
    "\n",
    "# Train/Predict using k=1,3,...,15\n",
    "mses = []\n",
    "for k in range(1,16,2):\n",
    "    output = knn.predict(X,k)\n",
    "    mse = np.mean((output - y)**2)\n",
    "    mses.append(mse)\n",
    "\n",
    "# Graph MSE over k\n",
    "mses = np.array(mses)\n",
    "ks = np.arange(1,16,2)\n",
    "plt.plot(ks,mses)\n",
    "plt.xlabel(\"K-Nearest Neighbors\")\n",
    "plt.ylabel(\"Mean Square Error\")\n",
    "plt.title(\"MSE based on number of neighbors (Housing)\")\n",
    "plt.show()"
   ]
  },
  {
   "cell_type": "markdown",
   "metadata": {},
   "source": [
    "*Discussion of results*\n",
    "\n",
    "The Telescope data seems almost identical.  This is likely because the data is fairly concentrated, so its distance doesn't alter the overall determination of the identification.\n",
    "\n",
    "The Housing, on the other hand, has been altered quite a bit.  Since the regression depends heavily on the values of the nearest predictions, then the MSE dropps off significantly when more neighbors are used, since the very nearest are given much more weight than the others.  This drastically pulls the prediction toward the value of the closest neighbors."
   ]
  },
  {
   "cell_type": "markdown",
   "metadata": {},
   "source": [
    "## Use the k-nearest neighbor algorithm to solve the [credit-approval](https://archive.ics.uci.edu/ml/datasets/Credit+Approval) (credit-a) problem.\n",
    "\n",
    "- Uses this [dataset](https://raw.githubusercontent.com/cs472ta/CS472/master/datasets/credit_approval.arff)\n",
    "    - Uses a 70/30 split of the data for the training/test set\n",
    "- Note that this set has both continuous and nominal attributes, together with don’t know values. \n",
    "- As a rough sanity check, typical knn accuracies for the credit data set are 70-80%.\n"
   ]
  },
  {
   "cell_type": "code",
   "execution_count": 120,
   "metadata": {},
   "outputs": [
    {
     "name": "stdout",
     "output_type": "stream",
     "text": [
      "  % Total    % Received % Xferd  Average Speed   Time    Time     Time  Current\n",
      "                                 Dload  Upload   Total   Spent    Left  Speed\n",
      "100 34315  100 34315    0     0   319k      0 --:--:-- --:--:-- --:--:--  319k\n"
     ]
    },
    {
     "name": "stderr",
     "output_type": "stream",
     "text": [
      "<ipython-input-118-7a10850eb602>:56: DeprecationWarning: elementwise comparison failed; this will raise an error in the future.\n",
      "  X_tmp[:,col_mask] = np.where(X_tmp == broadcast,0,1)\n"
     ]
    },
    {
     "ename": "ValueError",
     "evalue": "array must not contain infs or NaNs",
     "output_type": "error",
     "traceback": [
      "\u001b[0;31m---------------------------------------------------------------------------\u001b[0m",
      "\u001b[0;31mValueError\u001b[0m                                Traceback (most recent call last)",
      "\u001b[0;32m<ipython-input-120-cff73ee4ff59>\u001b[0m in \u001b[0;36m<module>\u001b[0;34m\u001b[0m\n\u001b[1;32m     31\u001b[0m \u001b[0maccuracies\u001b[0m \u001b[0;34m=\u001b[0m \u001b[0;34m[\u001b[0m\u001b[0;34m]\u001b[0m\u001b[0;34m\u001b[0m\u001b[0;34m\u001b[0m\u001b[0m\n\u001b[1;32m     32\u001b[0m \u001b[0;32mfor\u001b[0m \u001b[0mk\u001b[0m \u001b[0;32min\u001b[0m \u001b[0mrange\u001b[0m\u001b[0;34m(\u001b[0m\u001b[0;36m1\u001b[0m\u001b[0;34m,\u001b[0m\u001b[0;36m16\u001b[0m\u001b[0;34m,\u001b[0m\u001b[0;36m2\u001b[0m\u001b[0;34m)\u001b[0m\u001b[0;34m:\u001b[0m\u001b[0;34m\u001b[0m\u001b[0;34m\u001b[0m\u001b[0m\n\u001b[0;32m---> 33\u001b[0;31m     \u001b[0maccuracies\u001b[0m\u001b[0;34m.\u001b[0m\u001b[0mappend\u001b[0m\u001b[0;34m(\u001b[0m\u001b[0mknn\u001b[0m\u001b[0;34m.\u001b[0m\u001b[0mscore\u001b[0m\u001b[0;34m(\u001b[0m\u001b[0mX_test\u001b[0m\u001b[0;34m,\u001b[0m\u001b[0my_test\u001b[0m\u001b[0;34m,\u001b[0m\u001b[0mk\u001b[0m\u001b[0;34m)\u001b[0m\u001b[0;34m)\u001b[0m\u001b[0;34m\u001b[0m\u001b[0;34m\u001b[0m\u001b[0m\n\u001b[0m\u001b[1;32m     34\u001b[0m \u001b[0;31m# Graph classification accuracy over k\u001b[0m\u001b[0;34m\u001b[0m\u001b[0;34m\u001b[0m\u001b[0;34m\u001b[0m\u001b[0m\n\u001b[1;32m     35\u001b[0m \u001b[0maccuracies\u001b[0m \u001b[0;34m=\u001b[0m \u001b[0mnp\u001b[0m\u001b[0;34m.\u001b[0m\u001b[0marray\u001b[0m\u001b[0;34m(\u001b[0m\u001b[0maccuracies\u001b[0m\u001b[0;34m)\u001b[0m\u001b[0;34m\u001b[0m\u001b[0;34m\u001b[0m\u001b[0m\n",
      "\u001b[0;32m<ipython-input-118-7a10850eb602>\u001b[0m in \u001b[0;36mscore\u001b[0;34m(self, X, y, k)\u001b[0m\n\u001b[1;32m    112\u001b[0m                 \u001b[0mMean\u001b[0m \u001b[0maccuracy\u001b[0m \u001b[0mof\u001b[0m \u001b[0mself\u001b[0m\u001b[0;34m.\u001b[0m\u001b[0mpredict\u001b[0m\u001b[0;34m(\u001b[0m\u001b[0mX\u001b[0m\u001b[0;34m)\u001b[0m \u001b[0mwrt\u001b[0m\u001b[0;34m.\u001b[0m \u001b[0my\u001b[0m\u001b[0;34m.\u001b[0m\u001b[0;34m\u001b[0m\u001b[0;34m\u001b[0m\u001b[0m\n\u001b[1;32m    113\u001b[0m         \"\"\"\n\u001b[0;32m--> 114\u001b[0;31m         \u001b[0mpredictions\u001b[0m \u001b[0;34m=\u001b[0m \u001b[0mself\u001b[0m\u001b[0;34m.\u001b[0m\u001b[0mpredict\u001b[0m\u001b[0;34m(\u001b[0m\u001b[0mX\u001b[0m\u001b[0;34m,\u001b[0m\u001b[0mk\u001b[0m\u001b[0;34m)\u001b[0m\u001b[0;34m\u001b[0m\u001b[0;34m\u001b[0m\u001b[0m\n\u001b[0m\u001b[1;32m    115\u001b[0m         \u001b[0maccuracies\u001b[0m \u001b[0;34m=\u001b[0m \u001b[0mpredictions\u001b[0m \u001b[0;34m==\u001b[0m \u001b[0my\u001b[0m\u001b[0;34m\u001b[0m\u001b[0;34m\u001b[0m\u001b[0m\n\u001b[1;32m    116\u001b[0m         \u001b[0maccuracy\u001b[0m \u001b[0;34m=\u001b[0m \u001b[0mnp\u001b[0m\u001b[0;34m.\u001b[0m\u001b[0mcount_nonzero\u001b[0m\u001b[0;34m(\u001b[0m\u001b[0maccuracies\u001b[0m\u001b[0;34m)\u001b[0m\u001b[0;34m/\u001b[0m\u001b[0mpredictions\u001b[0m\u001b[0;34m.\u001b[0m\u001b[0mshape\u001b[0m\u001b[0;34m[\u001b[0m\u001b[0;36m0\u001b[0m\u001b[0;34m]\u001b[0m\u001b[0;34m\u001b[0m\u001b[0;34m\u001b[0m\u001b[0m\n",
      "\u001b[0;32m<ipython-input-118-7a10850eb602>\u001b[0m in \u001b[0;36mpredict\u001b[0;34m(self, data, k)\u001b[0m\n\u001b[1;32m     67\u001b[0m             \u001b[0mX_tmp\u001b[0m \u001b[0;34m=\u001b[0m \u001b[0mX_tmp\u001b[0m\u001b[0;34m.\u001b[0m\u001b[0mastype\u001b[0m\u001b[0;34m(\u001b[0m\u001b[0mnp\u001b[0m\u001b[0;34m.\u001b[0m\u001b[0mfloat64\u001b[0m\u001b[0;34m)\u001b[0m\u001b[0;34m\u001b[0m\u001b[0;34m\u001b[0m\u001b[0m\n\u001b[1;32m     68\u001b[0m             \u001b[0mrow_tmp\u001b[0m \u001b[0;34m=\u001b[0m \u001b[0mrow_tmp\u001b[0m\u001b[0;34m.\u001b[0m\u001b[0mastype\u001b[0m\u001b[0;34m(\u001b[0m\u001b[0mnp\u001b[0m\u001b[0;34m.\u001b[0m\u001b[0mfloat64\u001b[0m\u001b[0;34m)\u001b[0m\u001b[0;34m\u001b[0m\u001b[0;34m\u001b[0m\u001b[0m\n\u001b[0;32m---> 69\u001b[0;31m             \u001b[0mnorms\u001b[0m \u001b[0;34m=\u001b[0m \u001b[0mla\u001b[0m\u001b[0;34m.\u001b[0m\u001b[0mnorm\u001b[0m\u001b[0;34m(\u001b[0m\u001b[0mX_tmp\u001b[0m \u001b[0;34m-\u001b[0m \u001b[0mrow_tmp\u001b[0m\u001b[0;34m,\u001b[0m\u001b[0mord\u001b[0m\u001b[0;34m=\u001b[0m\u001b[0;36m2\u001b[0m\u001b[0;34m,\u001b[0m\u001b[0maxis\u001b[0m\u001b[0;34m=\u001b[0m\u001b[0;36m1\u001b[0m\u001b[0;34m)\u001b[0m\u001b[0;34m\u001b[0m\u001b[0;34m\u001b[0m\u001b[0m\n\u001b[0m\u001b[1;32m     70\u001b[0m             \u001b[0mlabels\u001b[0m \u001b[0;34m=\u001b[0m \u001b[0mself\u001b[0m\u001b[0;34m.\u001b[0m\u001b[0my\u001b[0m\u001b[0;34m.\u001b[0m\u001b[0mcopy\u001b[0m\u001b[0;34m(\u001b[0m\u001b[0;34m)\u001b[0m\u001b[0;34m\u001b[0m\u001b[0;34m\u001b[0m\u001b[0m\n\u001b[1;32m     71\u001b[0m             \u001b[0;31m#Find nearest k neighbors and let them vote\u001b[0m\u001b[0;34m\u001b[0m\u001b[0;34m\u001b[0m\u001b[0;34m\u001b[0m\u001b[0m\n",
      "\u001b[0;32m~/anaconda3/lib/python3.8/site-packages/scipy/linalg/misc.py\u001b[0m in \u001b[0;36mnorm\u001b[0;34m(a, ord, axis, keepdims, check_finite)\u001b[0m\n\u001b[1;32m    138\u001b[0m     \u001b[0;31m# Differs from numpy only in non-finite handling and the use of blas.\u001b[0m\u001b[0;34m\u001b[0m\u001b[0;34m\u001b[0m\u001b[0;34m\u001b[0m\u001b[0m\n\u001b[1;32m    139\u001b[0m     \u001b[0;32mif\u001b[0m \u001b[0mcheck_finite\u001b[0m\u001b[0;34m:\u001b[0m\u001b[0;34m\u001b[0m\u001b[0;34m\u001b[0m\u001b[0m\n\u001b[0;32m--> 140\u001b[0;31m         \u001b[0ma\u001b[0m \u001b[0;34m=\u001b[0m \u001b[0mnp\u001b[0m\u001b[0;34m.\u001b[0m\u001b[0masarray_chkfinite\u001b[0m\u001b[0;34m(\u001b[0m\u001b[0ma\u001b[0m\u001b[0;34m)\u001b[0m\u001b[0;34m\u001b[0m\u001b[0;34m\u001b[0m\u001b[0m\n\u001b[0m\u001b[1;32m    141\u001b[0m     \u001b[0;32melse\u001b[0m\u001b[0;34m:\u001b[0m\u001b[0;34m\u001b[0m\u001b[0;34m\u001b[0m\u001b[0m\n\u001b[1;32m    142\u001b[0m         \u001b[0ma\u001b[0m \u001b[0;34m=\u001b[0m \u001b[0mnp\u001b[0m\u001b[0;34m.\u001b[0m\u001b[0masarray\u001b[0m\u001b[0;34m(\u001b[0m\u001b[0ma\u001b[0m\u001b[0;34m)\u001b[0m\u001b[0;34m\u001b[0m\u001b[0;34m\u001b[0m\u001b[0m\n",
      "\u001b[0;32m~/anaconda3/lib/python3.8/site-packages/numpy/lib/function_base.py\u001b[0m in \u001b[0;36masarray_chkfinite\u001b[0;34m(a, dtype, order)\u001b[0m\n\u001b[1;32m    496\u001b[0m     \u001b[0ma\u001b[0m \u001b[0;34m=\u001b[0m \u001b[0masarray\u001b[0m\u001b[0;34m(\u001b[0m\u001b[0ma\u001b[0m\u001b[0;34m,\u001b[0m \u001b[0mdtype\u001b[0m\u001b[0;34m=\u001b[0m\u001b[0mdtype\u001b[0m\u001b[0;34m,\u001b[0m \u001b[0morder\u001b[0m\u001b[0;34m=\u001b[0m\u001b[0morder\u001b[0m\u001b[0;34m)\u001b[0m\u001b[0;34m\u001b[0m\u001b[0;34m\u001b[0m\u001b[0m\n\u001b[1;32m    497\u001b[0m     \u001b[0;32mif\u001b[0m \u001b[0ma\u001b[0m\u001b[0;34m.\u001b[0m\u001b[0mdtype\u001b[0m\u001b[0;34m.\u001b[0m\u001b[0mchar\u001b[0m \u001b[0;32min\u001b[0m \u001b[0mtypecodes\u001b[0m\u001b[0;34m[\u001b[0m\u001b[0;34m'AllFloat'\u001b[0m\u001b[0;34m]\u001b[0m \u001b[0;32mand\u001b[0m \u001b[0;32mnot\u001b[0m \u001b[0mnp\u001b[0m\u001b[0;34m.\u001b[0m\u001b[0misfinite\u001b[0m\u001b[0;34m(\u001b[0m\u001b[0ma\u001b[0m\u001b[0;34m)\u001b[0m\u001b[0;34m.\u001b[0m\u001b[0mall\u001b[0m\u001b[0;34m(\u001b[0m\u001b[0;34m)\u001b[0m\u001b[0;34m:\u001b[0m\u001b[0;34m\u001b[0m\u001b[0;34m\u001b[0m\u001b[0m\n\u001b[0;32m--> 498\u001b[0;31m         raise ValueError(\n\u001b[0m\u001b[1;32m    499\u001b[0m             \"array must not contain infs or NaNs\")\n\u001b[1;32m    500\u001b[0m     \u001b[0;32mreturn\u001b[0m \u001b[0ma\u001b[0m\u001b[0;34m\u001b[0m\u001b[0;34m\u001b[0m\u001b[0m\n",
      "\u001b[0;31mValueError\u001b[0m: array must not contain infs or NaNs"
     ]
    }
   ],
   "source": [
    "#TODO: Debug the use of HEOM Distance Metric \n",
    "\n",
    "# Load dataset and split into train/test sets\n",
    "# Download file with curl\n",
    "!curl https://raw.githubusercontent.com/cs472ta/CS472/master/datasets/credit_approval.arff --output credit.arff\n",
    "\n",
    "data = arff.loadarff('credit.arff')\n",
    "df = pd.DataFrame(data[0])\n",
    "df.head()\n",
    "data = np.array(df)\n",
    "\n",
    "X = data[:,:-1]\n",
    "y = data[:,-1]\n",
    "\n",
    "#split\n",
    "n = X.shape[0]\n",
    "indices = [i for i in range(n)]\n",
    "np.random.shuffle(indices)\n",
    "X = X[indices,:]\n",
    "y = y[indices]\n",
    "end = int(n*.7)\n",
    "X_train = X[:end,:]\n",
    "y_train = y[:end]\n",
    "X_test = X[end:,:]\n",
    "y_test = y[end:]\n",
    "\n",
    "# Train on training set\n",
    "coltype = [\"categorical\",\"real\",\"real\",\"categorical\",\"categorical\",\"categorical\",\"categorical\",\"real\",\"categorical\",\"categorical\",\"real\",\"categorical\",\"categorical\",\"real\",\"real\"]\n",
    "knn = KNNClassifier(columntype=coltype,weight_type=\"inverse_distance\",normalize=True)\n",
    "knn.fit(X_train,y_train)\n",
    "\n",
    "# Train/Predict with normalization using k=1,3,...,15\n",
    "accuracies = []\n",
    "for k in range(1,16,2):\n",
    "    accuracies.append(knn.score(X_test,y_test,k))\n",
    "# Graph classification accuracy over k\n",
    "accuracies = np.array(accuracies)\n",
    "k = np.arange(1,16,2)\n",
    "plt.plot(k,accuracies)\n",
    "plt.xlabel(\"K-Nearest Neighbors\")\n",
    "plt.ylabel(\"Accuracy\")\n",
    "plt.title(\"Accuracy based on number of neighbors\")\n",
    "plt.show()\n"
   ]
  },
  {
   "cell_type": "markdown",
   "metadata": {},
   "source": [
    "*Explanation of distance metric*\n",
    "\n",
    "I attempted to use the HEOM and use a distance of 1 with missing values, but I couldn't quite debug the use of a string instead of a number in the real-valued features."
   ]
  },
  {
   "cell_type": "markdown",
   "metadata": {},
   "source": [
    "# TODO: Finish exploration of KNN answering the following questions:"
   ]
  },
  {
   "cell_type": "markdown",
   "metadata": {
    "id": "oBBmeNQ7jvcQ"
   },
   "source": [
    "## Use the scikit's KNN Classifier on magic telescope and KNN Regressor on housing and compare the results.\n",
    "\n",
    "- Try out different hyperparameters to see how well it can do. \n"
   ]
  },
  {
   "cell_type": "code",
   "execution_count": 1,
   "metadata": {
    "id": "OFQv70W2VyqJ"
   },
   "outputs": [],
   "source": [
    "# Train/Predict magic telescope using scikit's KNN\n",
    "\n",
    "# Train/Predict housing using scikit's KNN\n"
   ]
  },
  {
   "cell_type": "markdown",
   "metadata": {
    "id": "BqSFAXwlk3Ms"
   },
   "source": [
    "*Report comparison*"
   ]
  },
  {
   "cell_type": "markdown",
   "metadata": {
    "id": "cTlK-kijk8Mg"
   },
   "source": [
    "## For the best value of k for any one of the datasets, implement a reduction algorithm that removes data points in some rational way such that performance does not drop too drastically on the test set given the reduced training set.\n",
    "\n",
    "- Compare performance on the test set for the reduced and non-reduced versions and give the number (and percentage) of training examples removed from the original training set. How well does the reduction algorithm work?\n",
    "    - Note that performance for magic telescope is classification accuracy and for housing it is mean squared error.\n",
    "    - Magic Telescope has about 12,000 instances and if I use a leave one out style of testing for data set reduction, then your algorithm will run slow since that is n2 at each step.\n",
    "    - Optionally, use a random subset of 2,000 of the magic telescope instances.\n",
    "    - More information on reduction techniques can be found [here](http://axon.cs.byu.edu/~martinez/classes/478/slides/IBL.pdf).\n"
   ]
  },
  {
   "cell_type": "code",
   "execution_count": null,
   "metadata": {
    "id": "5iY77P7gk1Nh"
   },
   "outputs": [],
   "source": []
  }
 ],
 "metadata": {
  "colab": {
   "collapsed_sections": [],
   "name": "lab 1 - perceptron",
   "provenance": []
  },
  "kernelspec": {
   "display_name": "Python 3 (ipykernel)",
   "language": "python",
   "name": "python3"
  },
  "language_info": {
   "codemirror_mode": {
    "name": "ipython",
    "version": 3
   },
   "file_extension": ".py",
   "mimetype": "text/x-python",
   "name": "python",
   "nbconvert_exporter": "python",
   "pygments_lexer": "ipython3",
   "version": "3.8.11"
  }
 },
 "nbformat": 4,
 "nbformat_minor": 1
}
